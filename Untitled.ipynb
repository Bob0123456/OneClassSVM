{
 "cells": [
  {
   "cell_type": "code",
   "execution_count": 1,
   "metadata": {},
   "outputs": [],
   "source": [
    "%matplotlib inline\n",
    "\n",
    "import numpy as np  \n",
    "import pandas as pd  \n",
    "from sklearn import utils  \n",
    "import matplotlib\n",
    "\n",
    "#Read csv file\n",
    "data = pd.read_csv('kddcup_data_10_percent_corrected.csv', low_memory=False)"
   ]
  },
  {
   "cell_type": "code",
   "execution_count": 2,
   "metadata": {},
   "outputs": [
    {
     "data": {
      "text/plain": [
       "<matplotlib.axes._subplots.AxesSubplot at 0x17da466b278>"
      ]
     },
     "execution_count": 2,
     "metadata": {},
     "output_type": "execute_result"
    },
    {
     "data": {
      "image/png": "[encoded data removed]",
      "text/plain": [
       "<matplotlib.figure.Figure at 0x17da4640be0>"
      ]
     },
     "metadata": {},
     "output_type": "display_data"
    }
   ],
   "source": [
    "data = data[data['service'] == \"http\"]  \n",
    "data = data[data[\"logged_in\"] == 1]\n",
    "\n",
    "# let's take a look at the types of attack labels are present in the data.\n",
    "data.label.value_counts().plot(kind='bar')  "
   ]
  },
  {
   "cell_type": "code",
   "execution_count": 3,
   "metadata": {},
   "outputs": [],
   "source": [
    "# the full dataset contains features for SMTP, NDP, ICMP, etc.\n",
    "# here we'll grab just the relevant features for HTTP.\n",
    "relevant_features = [  \n",
    "    \"duration\",\n",
    "    \"src_bytes\",\n",
    "    \"dst_bytes\",\n",
    "    \"label\"\n",
    "]\n",
    "\n",
    "# replace the data with a subset containing only the relevant features\n",
    "data = data[relevant_features]\n",
    "\n",
    "# normalise the data - this leads to better accuracy and reduces numerical instability in\n",
    "# the SVM implementation\n",
    "data[\"duration\"] = np.log((data[\"duration\"] + 0.1).astype(float))  \n",
    "data[\"src_bytes\"] = np.log((data[\"src_bytes\"] + 0.1).astype(float))  \n",
    "data[\"dst_bytes\"] = np.log((data[\"dst_bytes\"] + 0.1).astype(float))  "
   ]
  },
  {
   "cell_type": "code",
   "execution_count": 4,
   "metadata": {},
   "outputs": [
    {
     "name": "stdout",
     "output_type": "stream",
     "text": [
      "outliers.shape (2209,)\n",
      "outlier fraction 0.03761600681140911\n"
     ]
    },
    {
     "data": {
      "text/plain": [
       "(58725, 3)"
      ]
     },
     "execution_count": 4,
     "metadata": {},
     "output_type": "execute_result"
    }
   ],
   "source": [
    "# we're using a one-class SVM, so we need.. a single class. the dataset 'label'\n",
    "# column contains multiple different categories of attacks, so to make use of \n",
    "# this data in a one-class system we need to convert the attacks into\n",
    "# class 1 (normal) and class -1 (attack)\n",
    "data.loc[data['label'] == \"normal.\", \"attack\"] = 1  \n",
    "data.loc[data['label'] != \"normal.\", \"attack\"] = -1\n",
    "\n",
    "# grab out the attack value as the target for training and testing. since we're\n",
    "# only selecting a single column from the `data` dataframe, we'll just get a\n",
    "# series, not a new dataframe\n",
    "target = data['attack']\n",
    "\n",
    "# find the proportion of outliers we expect (aka where `attack == -1`). because \n",
    "# target is a series, we just compare against itself rather than a column.\n",
    "outliers = target[target == -1]  \n",
    "print(\"outliers.shape\", outliers.shape)  \n",
    "print(\"outlier fraction\", outliers.shape[0]/target.shape[0])\n",
    "\n",
    "# drop label columns from the dataframe. we're doing this so we can do \n",
    "# unsupervised training with unlabelled data. we've already copied the label\n",
    "# out into the target series so we can compare against it later.\n",
    "data.drop([\"label\", \"attack\"], axis=1, inplace=True)\n",
    "\n",
    "# check the shape for sanity checking.\n",
    "data.shape  "
   ]
  },
  {
   "cell_type": "code",
   "execution_count": 5,
   "metadata": {},
   "outputs": [
    {
     "name": "stderr",
     "output_type": "stream",
     "text": [
      "c:\\users\\maddy\\appdata\\local\\programs\\python\\python35\\lib\\site-packages\\sklearn\\model_selection\\_split.py:2026: FutureWarning: From version 0.21, test_size will always complement train_size unless both are specified.\n",
      "  FutureWarning)\n"
     ]
    },
    {
     "data": {
      "text/plain": [
       "(46980, 3)"
      ]
     },
     "execution_count": 5,
     "metadata": {},
     "output_type": "execute_result"
    }
   ],
   "source": [
    "from sklearn.model_selection import train_test_split  \n",
    "train_data, test_data, train_target, test_target = train_test_split(data, target, train_size = 0.8)  \n",
    "train_data.shape  "
   ]
  },
  {
   "cell_type": "code",
   "execution_count": 6,
   "metadata": {},
   "outputs": [
    {
     "name": "stdout",
     "output_type": "stream",
     "text": [
      "nu 0.03761600681140911\n"
     ]
    },
    {
     "data": {
      "text/plain": [
       "OneClassSVM(cache_size=200, coef0=0.0, degree=3, gamma=5e-05, kernel='rbf',\n",
       "      max_iter=-1, nu=0.03761600681140911, random_state=None,\n",
       "      shrinking=True, tol=0.001, verbose=False)"
      ]
     },
     "execution_count": 6,
     "metadata": {},
     "output_type": "execute_result"
    }
   ],
   "source": [
    "from sklearn import svm\n",
    "\n",
    "# set nu (which should be the proportion of outliers in our dataset)\n",
    "nu = outliers.shape[0] / target.shape[0]  \n",
    "print(\"nu\", nu)\n",
    "\n",
    "model = svm.OneClassSVM(nu=nu, kernel='rbf', gamma=0.00005)  \n",
    "model.fit(train_data)  "
   ]
  },
  {
   "cell_type": "code",
   "execution_count": 7,
   "metadata": {},
   "outputs": [
    {
     "name": "stdout",
     "output_type": "stream",
     "text": [
      "accuracy:  0.941358024691\n",
      "precision:  0.96218322738\n",
      "recall:  0.977484351846\n",
      "f1:  0.969773437929\n",
      "area under curve (auc):  0.497231140269\n"
     ]
    }
   ],
   "source": [
    "from sklearn import metrics  \n",
    "preds = model.predict(train_data)  \n",
    "targs = train_target\n",
    "\n",
    "print(\"accuracy: \", metrics.accuracy_score(targs, preds))  \n",
    "print(\"precision: \", metrics.precision_score(targs, preds))  \n",
    "print(\"recall: \", metrics.recall_score(targs, preds))  \n",
    "print(\"f1: \", metrics.f1_score(targs, preds))  \n",
    "print(\"area under curve (auc): \", metrics.roc_auc_score(targs, preds))  "
   ]
  },
  {
   "cell_type": "code",
   "execution_count": 8,
   "metadata": {},
   "outputs": [
    {
     "name": "stdout",
     "output_type": "stream",
     "text": [
      "accuracy:  0.942613878246\n",
      "precision:  0.962814595489\n",
      "recall:  0.978147394497\n",
      "f1:  0.9704204336\n",
      "area under curve (auc):  0.50604202304\n"
     ]
    }
   ],
   "source": [
    "preds = model.predict(test_data)  \n",
    "targs = test_target\n",
    "\n",
    "print(\"accuracy: \", metrics.accuracy_score(targs, preds))  \n",
    "print(\"precision: \", metrics.precision_score(targs, preds))  \n",
    "print(\"recall: \", metrics.recall_score(targs, preds))  \n",
    "print(\"f1: \", metrics.f1_score(targs, preds))  \n",
    "print(\"area under curve (auc): \", metrics.roc_auc_score(targs, preds))"
   ]
  },
  {
   "cell_type": "code",
   "execution_count": null,
   "metadata": {},
   "outputs": [],
   "source": []
  }
 ],
 "metadata": {
  "kernelspec": {
   "display_name": "Python 3",
   "language": "python",
   "name": "python3"
  },
  "language_info": {
   "codemirror_mode": {
    "name": "ipython",
    "version": 3
   },
   "file_extension": ".py",
   "mimetype": "text/x-python",
   "name": "python",
   "nbconvert_exporter": "python",
   "pygments_lexer": "ipython3",
   "version": "3.5.3"
  }
 },
 "nbformat": 4,
 "nbformat_minor": 2
}
